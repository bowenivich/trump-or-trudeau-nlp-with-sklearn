{
 "cells": [
  {
   "cell_type": "code",
   "execution_count": 1,
   "id": "5138553b-0937-4b78-bb9b-5c83baa37da7",
   "metadata": {},
   "outputs": [
    {
     "name": "stdout",
     "output_type": "stream",
     "text": [
      "(400, 2)\n"
     ]
    }
   ],
   "source": [
    "import pandas as pd\n",
    "\n",
    "df = pd.read_csv('tweets_trump_trudeau.csv')\n",
    "df = df.set_index('id')\n",
    "\n",
    "print(df.shape)"
   ]
  },
  {
   "cell_type": "code",
   "execution_count": 2,
   "id": "7ec72da6-602e-42a2-b373-fde0a8f1b961",
   "metadata": {},
   "outputs": [
    {
     "data": {
      "text/html": [
       "<div>\n",
       "<style scoped>\n",
       "    .dataframe tbody tr th:only-of-type {\n",
       "        vertical-align: middle;\n",
       "    }\n",
       "\n",
       "    .dataframe tbody tr th {\n",
       "        vertical-align: top;\n",
       "    }\n",
       "\n",
       "    .dataframe thead th {\n",
       "        text-align: right;\n",
       "    }\n",
       "</style>\n",
       "<table border=\"1\" class=\"dataframe\">\n",
       "  <thead>\n",
       "    <tr style=\"text-align: right;\">\n",
       "      <th></th>\n",
       "      <th>author</th>\n",
       "      <th>status</th>\n",
       "    </tr>\n",
       "    <tr>\n",
       "      <th>id</th>\n",
       "      <th></th>\n",
       "      <th></th>\n",
       "    </tr>\n",
       "  </thead>\n",
       "  <tbody>\n",
       "    <tr>\n",
       "      <th>157</th>\n",
       "      <td>Donald J. Trump</td>\n",
       "      <td>#JFKFiles https://t.co/AnPBSJFh3J</td>\n",
       "    </tr>\n",
       "    <tr>\n",
       "      <th>152</th>\n",
       "      <td>Donald J. Trump</td>\n",
       "      <td>After strict consultation with General Kelly, ...</td>\n",
       "    </tr>\n",
       "    <tr>\n",
       "      <th>105</th>\n",
       "      <td>Donald J. Trump</td>\n",
       "      <td>The United States will be immediately implemen...</td>\n",
       "    </tr>\n",
       "    <tr>\n",
       "      <th>114</th>\n",
       "      <td>Donald J. Trump</td>\n",
       "      <td>....for the Middle Class. The House and Senate...</td>\n",
       "    </tr>\n",
       "    <tr>\n",
       "      <th>130</th>\n",
       "      <td>Donald J. Trump</td>\n",
       "      <td>Thank you @LuisRiveraMarin! https://t.co/BK7sD...</td>\n",
       "    </tr>\n",
       "  </tbody>\n",
       "</table>\n",
       "</div>"
      ],
      "text/plain": [
       "              author                                             status\n",
       "id                                                                     \n",
       "157  Donald J. Trump                  #JFKFiles https://t.co/AnPBSJFh3J\n",
       "152  Donald J. Trump  After strict consultation with General Kelly, ...\n",
       "105  Donald J. Trump  The United States will be immediately implemen...\n",
       "114  Donald J. Trump  ....for the Middle Class. The House and Senate...\n",
       "130  Donald J. Trump  Thank you @LuisRiveraMarin! https://t.co/BK7sD..."
      ]
     },
     "execution_count": 2,
     "metadata": {},
     "output_type": "execute_result"
    }
   ],
   "source": [
    "df[df['author']=='Donald J. Trump'].sample(5)"
   ]
  },
  {
   "cell_type": "code",
   "execution_count": 3,
   "id": "22633a76-90c0-485b-ad10-76c1c740ccd9",
   "metadata": {},
   "outputs": [
    {
     "data": {
      "text/html": [
       "<div>\n",
       "<style scoped>\n",
       "    .dataframe tbody tr th:only-of-type {\n",
       "        vertical-align: middle;\n",
       "    }\n",
       "\n",
       "    .dataframe tbody tr th {\n",
       "        vertical-align: top;\n",
       "    }\n",
       "\n",
       "    .dataframe thead th {\n",
       "        text-align: right;\n",
       "    }\n",
       "</style>\n",
       "<table border=\"1\" class=\"dataframe\">\n",
       "  <thead>\n",
       "    <tr style=\"text-align: right;\">\n",
       "      <th></th>\n",
       "      <th>author</th>\n",
       "      <th>status</th>\n",
       "    </tr>\n",
       "    <tr>\n",
       "      <th>id</th>\n",
       "      <th></th>\n",
       "      <th></th>\n",
       "    </tr>\n",
       "  </thead>\n",
       "  <tbody>\n",
       "    <tr>\n",
       "      <th>345</th>\n",
       "      <td>Justin Trudeau</td>\n",
       "      <td>RT @PMcanadien: En direct: le PM Trudeau souli...</td>\n",
       "    </tr>\n",
       "    <tr>\n",
       "      <th>276</th>\n",
       "      <td>Justin Trudeau</td>\n",
       "      <td>Merci à Nguyen Cong Hiep, du consulat canadien...</td>\n",
       "    </tr>\n",
       "    <tr>\n",
       "      <th>336</th>\n",
       "      <td>Justin Trudeau</td>\n",
       "      <td>Today, I spoke with Governor @GregAbbott_TX to...</td>\n",
       "    </tr>\n",
       "    <tr>\n",
       "      <th>302</th>\n",
       "      <td>Justin Trudeau</td>\n",
       "      <td>This afternoon, I met with Vietnam’s Secretary...</td>\n",
       "    </tr>\n",
       "    <tr>\n",
       "      <th>323</th>\n",
       "      <td>Justin Trudeau</td>\n",
       "      <td>RT @PattyHajdu: Focusing on prevention, increa...</td>\n",
       "    </tr>\n",
       "  </tbody>\n",
       "</table>\n",
       "</div>"
      ],
      "text/plain": [
       "             author                                             status\n",
       "id                                                                    \n",
       "345  Justin Trudeau  RT @PMcanadien: En direct: le PM Trudeau souli...\n",
       "276  Justin Trudeau  Merci à Nguyen Cong Hiep, du consulat canadien...\n",
       "336  Justin Trudeau  Today, I spoke with Governor @GregAbbott_TX to...\n",
       "302  Justin Trudeau  This afternoon, I met with Vietnam’s Secretary...\n",
       "323  Justin Trudeau  RT @PattyHajdu: Focusing on prevention, increa..."
      ]
     },
     "execution_count": 3,
     "metadata": {},
     "output_type": "execute_result"
    }
   ],
   "source": [
    "df[df['author']=='Justin Trudeau'].sample(5)"
   ]
  },
  {
   "cell_type": "code",
   "execution_count": 4,
   "id": "84451d35-e6f6-40dd-8b7a-33109f94df1a",
   "metadata": {},
   "outputs": [
    {
     "name": "stdout",
     "output_type": "stream",
     "text": [
      "train 320\n",
      "test 80\n"
     ]
    }
   ],
   "source": [
    "from sklearn.model_selection import train_test_split\n",
    "\n",
    "train_x, valid_x, train_y, valid_y = train_test_split(df['status'], df['author'], test_size=0.2, random_state=42)\n",
    "\n",
    "print('train', len(train_x))\n",
    "print('test', len(valid_x))"
   ]
  },
  {
   "cell_type": "code",
   "execution_count": 5,
   "id": "cd941aa0-2cac-4332-931d-29b60d8f96dd",
   "metadata": {},
   "outputs": [],
   "source": [
    "from sklearn.feature_extraction.text import TfidfVectorizer\n",
    "\n",
    "vectorizer = TfidfVectorizer()\n",
    "train_x_vec = vectorizer.fit_transform(train_x)\n",
    "valid_x_vec = vectorizer.transform(valid_x)"
   ]
  },
  {
   "cell_type": "code",
   "execution_count": 6,
   "id": "beea6f14-2f5c-4e84-a5f6-77827d7b3c32",
   "metadata": {},
   "outputs": [],
   "source": [
    "from sklearn.linear_model import LogisticRegression\n",
    "\n",
    "model = LogisticRegression()\n",
    "model.fit(train_x_vec, train_y)\n",
    "\n",
    "y_pred = model.predict(valid_x_vec)"
   ]
  },
  {
   "cell_type": "code",
   "execution_count": 7,
   "id": "5e7f017c-45dc-4ade-b8bd-2932ea361183",
   "metadata": {},
   "outputs": [
    {
     "data": {
      "text/plain": [
       "0.8875"
      ]
     },
     "execution_count": 7,
     "metadata": {},
     "output_type": "execute_result"
    }
   ],
   "source": [
    "from sklearn.metrics import accuracy_score\n",
    "\n",
    "accuracy_score(valid_y, y_pred)"
   ]
  },
  {
   "cell_type": "code",
   "execution_count": null,
   "id": "e1d2720e-da63-4c18-b402-525f20b44671",
   "metadata": {},
   "outputs": [],
   "source": []
  }
 ],
 "metadata": {
  "kernelspec": {
   "display_name": "Python 3 (ipykernel)",
   "language": "python",
   "name": "python3"
  },
  "language_info": {
   "codemirror_mode": {
    "name": "ipython",
    "version": 3
   },
   "file_extension": ".py",
   "mimetype": "text/x-python",
   "name": "python",
   "nbconvert_exporter": "python",
   "pygments_lexer": "ipython3",
   "version": "3.9.6"
  }
 },
 "nbformat": 4,
 "nbformat_minor": 5
}
